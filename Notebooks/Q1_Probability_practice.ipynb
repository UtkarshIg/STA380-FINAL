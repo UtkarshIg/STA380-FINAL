{
 "cells": [
  {
   "cell_type": "markdown",
   "id": "2d69b35f-066c-47de-ac9f-01f9d0a4067a",
   "metadata": {},
   "source": [
    "### Probability practice - A"
   ]
  },
  {
   "cell_type": "markdown",
   "id": "ac7a2358-056b-464c-befe-69a654b9b086",
   "metadata": {},
   "source": [
    "- Event of clicking \"yes\" - Y\n",
    "- Event of clicking \"no\" - N\n",
    "- Event of truthful click - T\n",
    "- Event of a random click - R\n",
    "\n",
    "Probabilities given in problem statement-\n",
    "- P(Y) = 0.65\n",
    "- P(N) = 0.35\n",
    "- P(R) = 0.3\n",
    "- P(Y|R) = P(N|R) = 0.5\n",
    "\n",
    "Using rule of total probability-\n",
    "P(Y) = P(Y,T) + P(Y,R)"
   ]
  },
  {
   "cell_type": "markdown",
   "id": "7ab51331-c10a-4279-bf89-35be60ad66cb",
   "metadata": {},
   "source": [
    "P(Y) = P(Y|T).P(T) + P(Y|R).P(R)"
   ]
  },
  {
   "cell_type": "markdown",
   "id": "e33fb31b-db00-4aff-9d5f-5d7e3c8d40e8",
   "metadata": {},
   "source": [
    "0.65 = P(Y|T)x(1-0.3) + 0.5x0.3"
   ]
  },
  {
   "cell_type": "markdown",
   "id": "a0890569-2ccf-4865-a1b7-f736e8003960",
   "metadata": {},
   "source": [
    "**P(Y|T) = 0.7143**"
   ]
  },
  {
   "cell_type": "markdown",
   "id": "e112cb03-306f-4a6a-b9c6-da3322b6cc2c",
   "metadata": {},
   "source": [
    "### Probability practice - B"
   ]
  },
  {
   "cell_type": "markdown",
   "id": "df812892-dd4d-47de-a8ac-2a4eddaef655",
   "metadata": {},
   "source": [
    "- Event of having disease - D\n",
    "- Event of not having disease - W\n",
    "- Event of testing positive - P\n",
    "- Event of testing negative - N\n",
    "\n",
    "Probabilities given in problem statement-\n",
    "- P(P|D) = 0.993\n",
    "- P(N|W) = 0.9999\n",
    "- P(D) = 0.000025"
   ]
  },
  {
   "cell_type": "markdown",
   "id": "a563d00c-0a5a-410e-bea8-de2b61e67127",
   "metadata": {},
   "source": [
    "Using Baye's Theorem, P(D|P) = P(P|D).P(D)/P(P)\n",
    "\n",
    "First, we need to find the value of P(P) using total probability."
   ]
  },
  {
   "cell_type": "markdown",
   "id": "702f943e-ccc2-4f01-9e0e-5dc75ba83c54",
   "metadata": {},
   "source": [
    "P(P) = P(P|D).P(D) + P(P|W).P(W)"
   ]
  },
  {
   "cell_type": "markdown",
   "id": "af1f1953-4fd3-45e8-b8fd-dc1a77702ed8",
   "metadata": {},
   "source": [
    "P(P) = (0.993)(0.000025) + (1-0.9999)(1-0.000025)"
   ]
  },
  {
   "cell_type": "markdown",
   "id": "1fe20c83-bd4b-4898-868f-43ee8256b761",
   "metadata": {},
   "source": [
    "P(P) = 0.000125"
   ]
  },
  {
   "cell_type": "markdown",
   "id": "0f190e5d-dca6-4026-97f7-0d617269ee12",
   "metadata": {},
   "source": [
    "Now, P(D|P) = (0.993x0.000025)/(0.000125) = 0.1989"
   ]
  },
  {
   "cell_type": "markdown",
   "id": "adab490f-e349-4976-bf78-3ebae513b254",
   "metadata": {},
   "source": [
    "**P(D|P) = 0.1989**"
   ]
  }
 ],
 "metadata": {
  "kernelspec": {
   "display_name": "Python 3 (ipykernel)",
   "language": "python",
   "name": "python3"
  },
  "language_info": {
   "codemirror_mode": {
    "name": "ipython",
    "version": 3
   },
   "file_extension": ".py",
   "mimetype": "text/x-python",
   "name": "python",
   "nbconvert_exporter": "python",
   "pygments_lexer": "ipython3",
   "version": "3.12.4"
  }
 },
 "nbformat": 4,
 "nbformat_minor": 5
}
